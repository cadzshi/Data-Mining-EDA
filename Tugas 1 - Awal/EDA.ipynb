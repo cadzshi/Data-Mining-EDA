{
  "nbformat": 4,
  "nbformat_minor": 0,
  "metadata": {
    "colab": {
      "provenance": []
    },
    "kernelspec": {
      "name": "python3",
      "display_name": "Python 3"
    },
    "language_info": {
      "name": "python"
    }
  },
  "cells": [
    {
      "cell_type": "markdown",
      "source": [
        "# Tugas 1 Data Mining - EDA\n",
        "---\n",
        "List Anggota Kelompok 9\n",
        "*   Cahaya Aulia Firdausyah (2006304)\n",
        "*   Anderfa Jalu Kawani (2102671)\n",
        "*   Sabila Rosad (2106000)\n",
        "\n",
        "\n"
      ],
      "metadata": {
        "id": "uvO_CIf2kMd2"
      }
    },
    {
      "cell_type": "markdown",
      "source": [
        "## Import Library"
      ],
      "metadata": {
        "id": "AH-OTb36mfp9"
      }
    },
    {
      "cell_type": "code",
      "source": [
        "%matplotlib inline\n",
        "import numpy as np\n",
        "import pandas as pd\n",
        "import matplotlib.pyplot as plt\n",
        "import seaborn as sns\n",
        "from google.colab import drive\n",
        "\n"
      ],
      "metadata": {
        "id": "xn35DDwNkE7U"
      },
      "execution_count": null,
      "outputs": []
    },
    {
      "cell_type": "markdown",
      "source": [
        "## Load Dataset\n",
        "\n",
        "Import dan load dataset  yang akan digunakan dari GDrive"
      ],
      "metadata": {
        "id": "_Bq5phutmqiH"
      }
    },
    {
      "cell_type": "code",
      "source": [
        "drive.mount('/content/drive')\n",
        "\n",
        "df_jml_hotel = pd.read_excel(\"/content/drive/MyDrive/Data Mining/Tugas 1/disparbud-od_15356_jml_hotel_bintang_non_bintang__jenis_hotel_kabupat_v1_data.xlsx\")\n",
        "df_jml_pengunjung_pariwisata = pd.read_excel(\"/content/drive/MyDrive/Data Mining/Tugas 1/disparbud-od_15361_jml_pengunjung_kawasan_pariwisata__jenis_wisatawan_data.xlsx\")\n",
        "df_jml_pariwisata = pd.read_excel(\"/content/drive/MyDrive/Data Mining/Tugas 1/disparbud-od_15362_jml_kawasan_pariwisata__kabupatenkota_v1_data.xlsx\")\n",
        "df_jml_pendapatan = pd.read_excel(\"/content/drive/MyDrive/Data Mining/Tugas 1/disparbud-od_15380_jml_pendapatan_asli_drh_bidang_pariwisata__sektor_wisa_data.xlsx\")\n",
        "df_jml_potensi_odtw = pd.read_excel(\"/content/drive/MyDrive/Data Mining/Tugas 1/disparbud-od_15387_jml_ptns_obyek_daya_tarik_wisata_odtw__jenis_kabup_v2_data.xlsx\")\n",
        "df_jml_rumah_makan = pd.read_excel(\"/content/drive/MyDrive/Data Mining/Tugas 1/disparbud-od_15393_jumlah_rumah_makan_berdasarkan_kabupatenkota_v1_data.xlsx\")\n",
        "df_jml_pengunjung_perkemahan = pd.read_excel(\"/content/drive/MyDrive/Data Mining/Tugas 1/disparbud-od_16111_jml_pengunjung_perkemahan__jenis_wisatawan_kabupat_v2_data.xlsx\")\n",
        "df_jml_pengunjung_homestay = pd.read_excel(\"/content/drive/MyDrive/Data Mining/Tugas 1/disparbud-od_17834_jml_pengunjung_homestay__jenis_wisatawan_kabupaten_v2_data.xlsx\")\n",
        "df_jml_tk_pariwisata = pd.read_excel(\"/content/drive/MyDrive/Data Mining/Tugas 1/disparbud-od_jml_tk_kawasan_pariwisata__jk_data.xlsx\")\n",
        "df_luas_pariwisata = pd.read_excel(\"/content/drive/MyDrive/Data Mining/Tugas 1/disparbud-od_kawasan_pariwisata_berdasarkan_luas_data.xlsx\")\n",
        "df_jml_kawasan_pariwisata = pd.read_excel(\"/content/drive/MyDrive/Data Mining/Tugas 1/disparbud-od_15362_jml_kawasan_pariwisata__kabupatenkota_v1_data.xlsx\")"
      ],
      "metadata": {
        "colab": {
          "base_uri": "https://localhost:8080/"
        },
        "id": "wUly36zz_yY1",
        "outputId": "4bcdfbc0-dd37-474e-e328-08dbadf0309f"
      },
      "execution_count": null,
      "outputs": [
        {
          "output_type": "stream",
          "name": "stdout",
          "text": [
            "Drive already mounted at /content/drive; to attempt to forcibly remount, call drive.mount(\"/content/drive\", force_remount=True).\n"
          ]
        }
      ]
    },
    {
      "cell_type": "markdown",
      "source": [
        "## Drop Atribut\n",
        "\n",
        "Melakukan Drop (hapus) pada atribut yang tidak digunakan, seperti:\n",
        "*   id\n",
        "*   kode_provinsi\n",
        "*   nama_provinsi\n",
        "*   satuan\n",
        "\n"
      ],
      "metadata": {
        "id": "5ZWCEeSdBv1b"
      }
    },
    {
      "cell_type": "code",
      "source": [
        "df_jml_hotel = df_jml_hotel.drop(columns=[\"id\", \"kode_provinsi\", \"nama_provinsi\", \"satuan\"])\n",
        "df_jml_pengunjung_pariwisata = df_jml_pengunjung_pariwisata.drop(columns=[\"id\", \"kode_provinsi\", \"nama_provinsi\", \"satuan\"])\n",
        "df_jml_pariwisata = df_jml_pariwisata.drop(columns=[\"id\", \"kode_provinsi\", \"nama_provinsi\", \"satuan\"])\n",
        "df_jml_pendapatan = df_jml_pendapatan.drop(columns=[\"id\", \"kode_provinsi\", \"nama_provinsi\", \"satuan\"])\n",
        "df_jml_potensi_odtw = df_jml_potensi_odtw.drop(columns=[\"id\", \"kode_provinsi\", \"nama_provinsi\", \"satuan\"])\n",
        "df_jml_rumah_makan = df_jml_rumah_makan.drop(columns=[\"id\", \"kode_provinsi\", \"nama_provinsi\", \"satuan\"])\n",
        "df_jml_pengunjung_perkemahan = df_jml_pengunjung_perkemahan.drop(columns=[\"id\", \"kode_provinsi\", \"nama_provinsi\", \"satuan\"])\n",
        "df_jml_pengunjung_homestay = df_jml_pengunjung_homestay.drop(columns=[\"id\", \"kode_provinsi\", \"nama_provinsi\", \"satuan\"])\n",
        "df_jml_tk_pariwisata = df_jml_tk_pariwisata.drop(columns=[\"id\", \"kode_provinsi\", \"nama_provinsi\", \"satuan\"])\n",
        "df_luas_pariwisata = df_luas_pariwisata.drop(columns=[\"id\", \"kode_provinsi\", \"nama_provinsi\", \"satuan\"])\n",
        "df_jml_kawasan_pariwisata = df_jml_kawasan_pariwisata.drop(columns=[\"id\", \"kode_provinsi\", \"nama_provinsi\", \"satuan\"])\n"
      ],
      "metadata": {
        "collapsed": true,
        "id": "FTQjRe2OBvLL"
      },
      "execution_count": null,
      "outputs": []
    },
    {
      "cell_type": "markdown",
      "source": [
        "## Memfilter tiap dataset\n",
        "Melakukan filterasi agar interval tiap data set sama dari tahun 2018 sampai 2023."
      ],
      "metadata": {
        "id": "K0ihdzcL4Vjh"
      }
    },
    {
      "cell_type": "code",
      "source": [
        "con1 = (df_jml_hotel['tahun'] >= 2018) & (df_jml_hotel['tahun'] <= 2023)\n",
        "df_jml_hotel = df_jml_hotel[con1].reset_index(drop=True)\n",
        "df_jml_hotel.to_csv('filtered_data.csv', index=False)\n",
        "\n",
        "con1 = (df_jml_pengunjung_pariwisata['tahun'] >= 2018) & (df_jml_pengunjung_pariwisata['tahun'] <= 2023)\n",
        "df_jml_pengunjung = df_jml_pengunjung_pariwisata[con1].reset_index(drop=True)\n",
        "df_jml_pengunjung.to_csv('filtered_data.csv', index=False)\n",
        "\n",
        "con1 = (df_jml_pariwisata['tahun'] >= 2018) & (df_jml_pariwisata['tahun'] <= 2023)\n",
        "df_jml_pariwisata = df_jml_pariwisata[con1].reset_index(drop=True)\n",
        "df_jml_pariwisata.to_csv('filtered_data.csv', index=False)\n",
        "\n",
        "con1 = (df_jml_pendapatan['tahun'] >= 2018) & (df_jml_pendapatan['tahun'] <= 2023)\n",
        "df_jml_pendapatan = df_jml_pendapatan[con1].reset_index(drop=True)\n",
        "df_jml_pendapatan.to_csv('filtered_data.csv', index=False)\n",
        "\n",
        "con1 = (df_jml_potensi_odtw['tahun'] >= 2018) & (df_jml_potensi_odtw['tahun'] <= 2023)\n",
        "df_jml_potensi_odtw = df_jml_potensi_odtw[con1].reset_index(drop=True)\n",
        "df_jml_potensi_odtw.to_csv('filtered_data.csv', index=False)\n",
        "\n",
        "con1 = (df_jml_rumah_makan['tahun'] >= 2018) & (df_jml_rumah_makan['tahun'] <= 2023)\n",
        "df_jml_rumah_makan = df_jml_rumah_makan[con1].reset_index(drop=True)\n",
        "df_jml_rumah_makan.to_csv('filtered_data.csv', index=False)\n",
        "\n",
        "con1 = (df_jml_pengunjung_perkemahan['tahun'] >= 2018) & (df_jml_pengunjung_perkemahan['tahun'] <= 2023)\n",
        "df_jml_pengunjung_perkemahan = df_jml_pengunjung_perkemahan[con1].reset_index(drop=True)\n",
        "df_jml_pengunjung_perkemahan.to_csv('filtered_data.csv', index=False)\n",
        "\n",
        "con1 = (df_jml_pengunjung_homestay['tahun'] >= 2018) & (df_jml_pengunjung_homestay['tahun'] <= 2023)\n",
        "df_jml_pengunjung_homestay = df_jml_pengunjung_homestay[con1].reset_index(drop=True)\n",
        "df_jml_pengunjung_homestay.to_csv('filtered_data.csv', index=False)\n",
        "\n",
        "con1 = (df_jml_tk_pariwisata['tahun'] >= 2018) & (df_jml_tk_pariwisata['tahun'] <= 2023)\n",
        "df_jml_tk_pariwisata = df_jml_tk_pariwisata[con1].reset_index(drop=True)\n",
        "df_jml_tk_pariwisata.to_csv('filtered_data.csv', index=False)\n",
        "\n",
        "con1 = (df_jml_kawasan_pariwisata['tahun'] >= 2018) & (df_jml_kawasan_pariwisata['tahun'] <= 2023)\n",
        "df_jml_kawasan_pariwisata = df_jml_kawasan_pariwisata[con1].reset_index(drop=True)\n",
        "df_jml_kawasan_pariwisata.to_csv('filtered_data.csv', index=False)"
      ],
      "metadata": {
        "id": "3uroDRGdYbF9"
      },
      "execution_count": null,
      "outputs": []
    },
    {
      "cell_type": "markdown",
      "source": [
        "## Mengganti nama atribut\n",
        "\n",
        "Mengganti nama atribut agar tidak memiliki kesamaan nama saat melakukan penggabungan (merge)"
      ],
      "metadata": {
        "id": "HzmdBB3I-2Yp"
      }
    },
    {
      "cell_type": "code",
      "source": [
        "df_jml_pengunjung_perkemahan.rename(columns={\"jumlah_pengunjung\": \"jumlah_pengunjung_perkemahan\"}, inplace=True)\n",
        "df_jml_pengunjung_homestay.rename(columns={\"jumlah_pengunjung\": \"jumlah_pengunjung_homestay\"}, inplace=True)\n",
        "df_jml_pengunjung_pariwisata.rename(columns={\"jumlah_pengunjung\": \"jumlah_pengunjung_pariwisata\"}, inplace=True)\n",
        "df_jml_pariwisata.rename(columns={\"jumlah_kawasan\": \"jumlah_kawasan_pariwisata\"}, inplace=True)\n",
        "df_jml_potensi_odtw.rename(columns={\"jumlah_odtw\": \"jumlah_potensi_odtw\"}, inplace=True)\n",
        "df_jml_tk_pariwisata.rename(columns={\"jumlah_tenaga_kerja\": \"jumlah_tk_pariwisata\"}, inplace=True)"
      ],
      "metadata": {
        "id": "OMQuZcX09qTm"
      },
      "execution_count": null,
      "outputs": []
    },
    {
      "cell_type": "markdown",
      "source": [
        "## Data Exploration\n",
        "\n",
        "Mengeksplorasi setiap dataset yang digunakan"
      ],
      "metadata": {
        "id": "inwWw89DYVxa"
      }
    },
    {
      "cell_type": "markdown",
      "source": [
        "**Mengeksplorasi dataset jumlah hotel**"
      ],
      "metadata": {
        "id": "hz38CSyUYvIP"
      }
    },
    {
      "cell_type": "code",
      "source": [
        "df_jml_hotel.info()"
      ],
      "metadata": {
        "colab": {
          "base_uri": "https://localhost:8080/"
        },
        "id": "WX4uB8ItY1zT",
        "outputId": "e6737e11-d0e9-4237-8cb0-c48eb2329a2b"
      },
      "execution_count": null,
      "outputs": [
        {
          "output_type": "stream",
          "name": "stdout",
          "text": [
            "<class 'pandas.core.frame.DataFrame'>\n",
            "RangeIndex: 945 entries, 0 to 944\n",
            "Data columns (total 5 columns):\n",
            " #   Column               Non-Null Count  Dtype \n",
            "---  ------               --------------  ----- \n",
            " 0   kode_kabupaten_kota  945 non-null    int64 \n",
            " 1   nama_kabupaten_kota  945 non-null    object\n",
            " 2   jenis_hotel          945 non-null    object\n",
            " 3   jumlah_hotel         945 non-null    int64 \n",
            " 4   tahun                945 non-null    int64 \n",
            "dtypes: int64(3), object(2)\n",
            "memory usage: 37.0+ KB\n"
          ]
        }
      ]
    },
    {
      "cell_type": "markdown",
      "source": [
        "**Mengekplorasi dataset jumlah pengunjung pariwisata**"
      ],
      "metadata": {
        "id": "m0fvHjFcZANy"
      }
    },
    {
      "cell_type": "code",
      "source": [
        "df_jml_pengunjung_pariwisata.info()"
      ],
      "metadata": {
        "colab": {
          "base_uri": "https://localhost:8080/"
        },
        "id": "M5-VYEexZMbv",
        "outputId": "8fe8c5b9-4a10-443c-bb35-1a8bd2127425"
      },
      "execution_count": null,
      "outputs": [
        {
          "output_type": "stream",
          "name": "stdout",
          "text": [
            "<class 'pandas.core.frame.DataFrame'>\n",
            "RangeIndex: 484 entries, 0 to 483\n",
            "Data columns (total 5 columns):\n",
            " #   Column                        Non-Null Count  Dtype  \n",
            "---  ------                        --------------  -----  \n",
            " 0   kode_kabupaten_kota           484 non-null    int64  \n",
            " 1   nama_kabupaten_kota           484 non-null    object \n",
            " 2   jenis_wisatawan               484 non-null    object \n",
            " 3   jumlah_pengunjung_pariwisata  483 non-null    float64\n",
            " 4   tahun                         484 non-null    int64  \n",
            "dtypes: float64(1), int64(2), object(2)\n",
            "memory usage: 19.0+ KB\n"
          ]
        }
      ]
    },
    {
      "cell_type": "markdown",
      "source": [
        "**Mengekplorasi dataset jumlah pariwisata**"
      ],
      "metadata": {
        "id": "TgI-Sh7VZOku"
      }
    },
    {
      "cell_type": "code",
      "source": [
        "df_jml_pariwisata.info()"
      ],
      "metadata": {
        "colab": {
          "base_uri": "https://localhost:8080/"
        },
        "id": "gcAEELExaPUD",
        "outputId": "8cb12c06-6135-402c-d3ed-ce7c7345a8f7"
      },
      "execution_count": null,
      "outputs": [
        {
          "output_type": "stream",
          "name": "stdout",
          "text": [
            "<class 'pandas.core.frame.DataFrame'>\n",
            "RangeIndex: 162 entries, 0 to 161\n",
            "Data columns (total 4 columns):\n",
            " #   Column                     Non-Null Count  Dtype  \n",
            "---  ------                     --------------  -----  \n",
            " 0   kode_kabupaten_kota        162 non-null    int64  \n",
            " 1   nama_kabupaten_kota        162 non-null    object \n",
            " 2   jumlah_kawasan_pariwisata  157 non-null    float64\n",
            " 3   tahun                      162 non-null    int64  \n",
            "dtypes: float64(1), int64(2), object(1)\n",
            "memory usage: 5.2+ KB\n"
          ]
        }
      ]
    },
    {
      "cell_type": "markdown",
      "source": [
        "**Mengekplorasi dataset jumlah pendapatan asli daerah bidang pariwisata**"
      ],
      "metadata": {
        "id": "_oO4P2dDZVCh"
      }
    },
    {
      "cell_type": "code",
      "source": [
        "df_jml_pendapatan.info()"
      ],
      "metadata": {
        "colab": {
          "base_uri": "https://localhost:8080/"
        },
        "id": "24ukk44gaRHk",
        "outputId": "07563b92-c842-4f26-b26b-69dd93ba1153"
      },
      "execution_count": null,
      "outputs": [
        {
          "output_type": "stream",
          "name": "stdout",
          "text": [
            "<class 'pandas.core.frame.DataFrame'>\n",
            "RangeIndex: 541 entries, 0 to 540\n",
            "Data columns (total 5 columns):\n",
            " #   Column               Non-Null Count  Dtype \n",
            "---  ------               --------------  ----- \n",
            " 0   kode_kabupaten_kota  541 non-null    int64 \n",
            " 1   nama_kabupaten_kota  541 non-null    object\n",
            " 2   sektor_wisata        541 non-null    object\n",
            " 3   jumlah_pendapatan    541 non-null    int64 \n",
            " 4   tahun                541 non-null    int64 \n",
            "dtypes: int64(3), object(2)\n",
            "memory usage: 21.3+ KB\n"
          ]
        }
      ]
    },
    {
      "cell_type": "markdown",
      "source": [
        "**Mengekplorasi dataset jumlah potensi Obyek Daya Tarik Wisata (ODTW) dan jenisnya**"
      ],
      "metadata": {
        "id": "q4sVHfKqZcOf"
      }
    },
    {
      "cell_type": "code",
      "source": [
        "df_jml_potensi_odtw.info()"
      ],
      "metadata": {
        "colab": {
          "base_uri": "https://localhost:8080/"
        },
        "id": "OLHWoucPaSsG",
        "outputId": "9851a38b-350e-4880-fde2-b162d526e466"
      },
      "execution_count": null,
      "outputs": [
        {
          "output_type": "stream",
          "name": "stdout",
          "text": [
            "<class 'pandas.core.frame.DataFrame'>\n",
            "RangeIndex: 486 entries, 0 to 485\n",
            "Data columns (total 5 columns):\n",
            " #   Column               Non-Null Count  Dtype \n",
            "---  ------               --------------  ----- \n",
            " 0   kode_kabupaten_kota  486 non-null    int64 \n",
            " 1   nama_kabupaten_kota  486 non-null    object\n",
            " 2   jenis_odtw           486 non-null    object\n",
            " 3   jumlah_potensi_odtw  486 non-null    int64 \n",
            " 4   tahun                486 non-null    int64 \n",
            "dtypes: int64(3), object(2)\n",
            "memory usage: 19.1+ KB\n"
          ]
        }
      ]
    },
    {
      "cell_type": "markdown",
      "source": [
        "**Mengekplorasi dataset jumlah rumah makan**"
      ],
      "metadata": {
        "id": "sUWSprOcZmIs"
      }
    },
    {
      "cell_type": "code",
      "source": [
        "df_jml_rumah_makan.info()"
      ],
      "metadata": {
        "colab": {
          "base_uri": "https://localhost:8080/"
        },
        "id": "OdfTN4LuaVdd",
        "outputId": "c8bdcf3a-4421-443d-9e6e-61491c6861dc"
      },
      "execution_count": null,
      "outputs": [
        {
          "output_type": "stream",
          "name": "stdout",
          "text": [
            "<class 'pandas.core.frame.DataFrame'>\n",
            "RangeIndex: 162 entries, 0 to 161\n",
            "Data columns (total 4 columns):\n",
            " #   Column               Non-Null Count  Dtype  \n",
            "---  ------               --------------  -----  \n",
            " 0   kode_kabupaten_kota  162 non-null    int64  \n",
            " 1   nama_kabupaten_kota  162 non-null    object \n",
            " 2   jumlah_rumah_makan   162 non-null    float64\n",
            " 3   tahun                162 non-null    int64  \n",
            "dtypes: float64(1), int64(2), object(1)\n",
            "memory usage: 5.2+ KB\n"
          ]
        }
      ]
    },
    {
      "cell_type": "markdown",
      "source": [
        "**Mengekplorasi dataset jumlah pengunjung perkemahan**"
      ],
      "metadata": {
        "id": "69c8mHjrZvjf"
      }
    },
    {
      "cell_type": "code",
      "source": [
        "df_jml_pengunjung_perkemahan.info()"
      ],
      "metadata": {
        "colab": {
          "base_uri": "https://localhost:8080/"
        },
        "id": "qwnUHk8WaXS_",
        "outputId": "803251b8-0d1e-429f-8e69-555103566302"
      },
      "execution_count": null,
      "outputs": [
        {
          "output_type": "stream",
          "name": "stdout",
          "text": [
            "<class 'pandas.core.frame.DataFrame'>\n",
            "RangeIndex: 324 entries, 0 to 323\n",
            "Data columns (total 5 columns):\n",
            " #   Column                        Non-Null Count  Dtype \n",
            "---  ------                        --------------  ----- \n",
            " 0   kode_kabupaten_kota           324 non-null    int64 \n",
            " 1   nama_kabupaten_kota           324 non-null    object\n",
            " 2   jenis_wisatawan               324 non-null    object\n",
            " 3   jumlah_pengunjung_perkemahan  324 non-null    int64 \n",
            " 4   tahun                         324 non-null    int64 \n",
            "dtypes: int64(3), object(2)\n",
            "memory usage: 12.8+ KB\n"
          ]
        }
      ]
    },
    {
      "cell_type": "markdown",
      "source": [
        "**Mengekplorasi dataset jumlah pengunjung homestay**"
      ],
      "metadata": {
        "id": "SOofWpCAZyRk"
      }
    },
    {
      "cell_type": "code",
      "source": [
        "df_jml_pengunjung_homestay.info()"
      ],
      "metadata": {
        "colab": {
          "base_uri": "https://localhost:8080/"
        },
        "id": "LtngL8G5aYlP",
        "outputId": "33cb1956-28a2-41f7-8c7a-07d70a7bb7c3"
      },
      "execution_count": null,
      "outputs": [
        {
          "output_type": "stream",
          "name": "stdout",
          "text": [
            "<class 'pandas.core.frame.DataFrame'>\n",
            "RangeIndex: 324 entries, 0 to 323\n",
            "Data columns (total 5 columns):\n",
            " #   Column                      Non-Null Count  Dtype \n",
            "---  ------                      --------------  ----- \n",
            " 0   kode_kabupaten_kota         324 non-null    int64 \n",
            " 1   nama_kabupaten_kota         324 non-null    object\n",
            " 2   jenis_wisatawan             324 non-null    object\n",
            " 3   jumlah_pengunjung_homestay  324 non-null    int64 \n",
            " 4   tahun                       324 non-null    int64 \n",
            "dtypes: int64(3), object(2)\n",
            "memory usage: 12.8+ KB\n"
          ]
        }
      ]
    },
    {
      "cell_type": "markdown",
      "source": [
        "**Mengekplorasi dataset jumlah tenaga kerja pariwisata**"
      ],
      "metadata": {
        "id": "4f_xuJhXZ11h"
      }
    },
    {
      "cell_type": "code",
      "source": [
        "df_jml_tk_pariwisata.info()"
      ],
      "metadata": {
        "colab": {
          "base_uri": "https://localhost:8080/"
        },
        "id": "WEWOkGmYaafi",
        "outputId": "73a8f71a-bc2a-47ac-d30a-1bf8735e5347"
      },
      "execution_count": null,
      "outputs": [
        {
          "output_type": "stream",
          "name": "stdout",
          "text": [
            "<class 'pandas.core.frame.DataFrame'>\n",
            "RangeIndex: 0 entries\n",
            "Data columns (total 5 columns):\n",
            " #   Column                Non-Null Count  Dtype \n",
            "---  ------                --------------  ----- \n",
            " 0   kode_kabupaten_kota   0 non-null      int64 \n",
            " 1   nama_kabupaten_kota   0 non-null      object\n",
            " 2   jenis_kelamin         0 non-null      object\n",
            " 3   jumlah_tk_pariwisata  0 non-null      int64 \n",
            " 4   tahun                 0 non-null      int64 \n",
            "dtypes: int64(3), object(2)\n",
            "memory usage: 124.0+ bytes\n"
          ]
        }
      ]
    },
    {
      "cell_type": "markdown",
      "source": [
        "**Mengekplorasi dataset luas kawasan pariwisata**"
      ],
      "metadata": {
        "id": "AKmtCK1wZ4Xk"
      }
    },
    {
      "cell_type": "code",
      "source": [
        "df_luas_pariwisata.info()"
      ],
      "metadata": {
        "colab": {
          "base_uri": "https://localhost:8080/"
        },
        "id": "Tb03W8hNabmj",
        "outputId": "79e942ca-528a-4932-c884-40351c3af2e6"
      },
      "execution_count": null,
      "outputs": [
        {
          "output_type": "stream",
          "name": "stdout",
          "text": [
            "<class 'pandas.core.frame.DataFrame'>\n",
            "RangeIndex: 107 entries, 0 to 106\n",
            "Data columns (total 4 columns):\n",
            " #   Column               Non-Null Count  Dtype  \n",
            "---  ------               --------------  -----  \n",
            " 0   kode_kabupaten_kota  107 non-null    int64  \n",
            " 1   nama_kabupaten_kota  107 non-null    object \n",
            " 2   luas_kawasan         107 non-null    float64\n",
            " 3   tahun                107 non-null    int64  \n",
            "dtypes: float64(1), int64(2), object(1)\n",
            "memory usage: 3.5+ KB\n"
          ]
        }
      ]
    },
    {
      "cell_type": "markdown",
      "source": [
        "**Mengekplorasi dataset jumlah kawasan pariwisata**"
      ],
      "metadata": {
        "id": "yvvLHFe2aEOa"
      }
    },
    {
      "cell_type": "code",
      "source": [
        "df_jml_kawasan_pariwisata.info()"
      ],
      "metadata": {
        "colab": {
          "base_uri": "https://localhost:8080/"
        },
        "id": "x0BU0jzBaeAX",
        "outputId": "cfb275ad-632f-4f77-a604-91cf08c4bbfe"
      },
      "execution_count": null,
      "outputs": [
        {
          "output_type": "stream",
          "name": "stdout",
          "text": [
            "<class 'pandas.core.frame.DataFrame'>\n",
            "RangeIndex: 162 entries, 0 to 161\n",
            "Data columns (total 4 columns):\n",
            " #   Column               Non-Null Count  Dtype  \n",
            "---  ------               --------------  -----  \n",
            " 0   kode_kabupaten_kota  162 non-null    int64  \n",
            " 1   nama_kabupaten_kota  162 non-null    object \n",
            " 2   jumlah_kawasan       157 non-null    float64\n",
            " 3   tahun                162 non-null    int64  \n",
            "dtypes: float64(1), int64(2), object(1)\n",
            "memory usage: 5.2+ KB\n"
          ]
        }
      ]
    },
    {
      "cell_type": "markdown",
      "source": [
        "## Menggabungkan dataset\n",
        "\n",
        "Menggabungkan setiap dataset yang digunakan"
      ],
      "metadata": {
        "id": "USgx1ceWEhAJ"
      }
    },
    {
      "cell_type": "code",
      "source": [
        "df_merged = pd.merge(df_jml_hotel, df_jml_pengunjung_pariwisata, on=['kode_kabupaten_kota', 'nama_kabupaten_kota', 'tahun'], how='outer')\n",
        "df_merged = pd.merge(df_merged, df_jml_pariwisata, on=['kode_kabupaten_kota', 'nama_kabupaten_kota', 'tahun'], how='outer')\n",
        "df_merged = pd.merge(df_merged, df_jml_pendapatan, on=['kode_kabupaten_kota', 'nama_kabupaten_kota', 'tahun'], how='outer')\n",
        "df_merged = pd.merge(df_merged, df_jml_potensi_odtw, on=['kode_kabupaten_kota', 'nama_kabupaten_kota', 'tahun'], how='outer')\n",
        "df_merged = pd.merge(df_merged, df_jml_rumah_makan, on=['kode_kabupaten_kota', 'nama_kabupaten_kota', 'tahun'], how='outer')\n",
        "df_merged = pd.merge(df_merged, df_jml_pengunjung_perkemahan, on=['kode_kabupaten_kota', 'nama_kabupaten_kota', 'tahun'], how='outer')\n",
        "df_merged = pd.merge(df_merged, df_jml_pengunjung_homestay, on=['kode_kabupaten_kota', 'nama_kabupaten_kota', 'tahun'], how='outer')\n",
        "df_merged = pd.merge(df_merged, df_jml_tk_pariwisata, on=['kode_kabupaten_kota', 'nama_kabupaten_kota', 'tahun'], how='outer')\n",
        "df_merged = pd.merge(df_merged, df_luas_pariwisata, on=['kode_kabupaten_kota', 'nama_kabupaten_kota', 'tahun'], how='outer')\n",
        "df_merged = pd.merge(df_merged, df_jml_kawasan_pariwisata, on=['kode_kabupaten_kota', 'nama_kabupaten_kota', 'tahun'], how='outer')\n",
        "\n",
        "\n",
        "df_merged = df_merged.loc[:, [\n",
        "    'kode_kabupaten_kota',\n",
        "    'nama_kabupaten_kota',\n",
        "    'tahun',\n",
        "    'jumlah_hotel',\n",
        "    'jumlah_pengunjung_pariwisata',\n",
        "    'jumlah_pendapatan',\n",
        "    'jumlah_rumah_makan',\n",
        "    'jumlah_pengunjung_perkemahan',\n",
        "    'jumlah_pengunjung_homestay',\n",
        "    'jumlah_kawasan_pariwisata',\n",
        "    'jumlah_potensi_odtw',\n",
        "    'jenis_odtw',\n",
        "    'jumlah_tk_pariwisata',\n",
        "]]\n",
        "\n",
        "df_merged.head(10)"
      ],
      "metadata": {
        "colab": {
          "base_uri": "https://localhost:8080/",
          "height": 383
        },
        "id": "izz70zyjEgj_",
        "outputId": "e252b67b-572c-4ce3-c0ba-ef024864417a"
      },
      "execution_count": null,
      "outputs": [
        {
          "output_type": "execute_result",
          "data": {
            "text/plain": [
              "   kode_kabupaten_kota nama_kabupaten_kota  tahun  jumlah_hotel  \\\n",
              "0                 3201     KABUPATEN BOGOR   2014           NaN   \n",
              "1                 3201     KABUPATEN BOGOR   2014           NaN   \n",
              "2                 3201     KABUPATEN BOGOR   2015           NaN   \n",
              "3                 3201     KABUPATEN BOGOR   2015           NaN   \n",
              "4                 3201     KABUPATEN BOGOR   2016           NaN   \n",
              "5                 3201     KABUPATEN BOGOR   2016           NaN   \n",
              "6                 3201     KABUPATEN BOGOR   2017           NaN   \n",
              "7                 3201     KABUPATEN BOGOR   2017           NaN   \n",
              "8                 3201     KABUPATEN BOGOR   2018           0.0   \n",
              "9                 3201     KABUPATEN BOGOR   2018           0.0   \n",
              "\n",
              "   jumlah_pengunjung_pariwisata  jumlah_pendapatan  jumlah_rumah_makan  \\\n",
              "0                           0.0                NaN                 NaN   \n",
              "1                           0.0                NaN                 NaN   \n",
              "2                           0.0                NaN                 NaN   \n",
              "3                           0.0                NaN                 NaN   \n",
              "4                           0.0                NaN                 NaN   \n",
              "5                           0.0                NaN                 NaN   \n",
              "6                           0.0                NaN                 NaN   \n",
              "7                           0.0                NaN                 NaN   \n",
              "8                     4411967.0                0.0                 0.0   \n",
              "9                     4411967.0                0.0                 0.0   \n",
              "\n",
              "   jumlah_pengunjung_perkemahan  jumlah_pengunjung_homestay  \\\n",
              "0                           NaN                         NaN   \n",
              "1                           NaN                         NaN   \n",
              "2                           NaN                         NaN   \n",
              "3                           NaN                         NaN   \n",
              "4                           NaN                         NaN   \n",
              "5                           NaN                         NaN   \n",
              "6                           NaN                         NaN   \n",
              "7                           NaN                         NaN   \n",
              "8                           0.0                         0.0   \n",
              "9                           0.0                         0.0   \n",
              "\n",
              "   jumlah_kawasan_pariwisata  jumlah_potensi_odtw jenis_odtw  \\\n",
              "0                        NaN                  NaN        NaN   \n",
              "1                        NaN                  NaN        NaN   \n",
              "2                        NaN                  NaN        NaN   \n",
              "3                        NaN                  NaN        NaN   \n",
              "4                        NaN                  NaN        NaN   \n",
              "5                        NaN                  NaN        NaN   \n",
              "6                        NaN                  NaN        NaN   \n",
              "7                        NaN                  NaN        NaN   \n",
              "8                       86.0                 55.0       ALAM   \n",
              "9                       86.0                 55.0       ALAM   \n",
              "\n",
              "   jumlah_tk_pariwisata  \n",
              "0                   NaN  \n",
              "1                   NaN  \n",
              "2                   NaN  \n",
              "3                   NaN  \n",
              "4                   NaN  \n",
              "5                   NaN  \n",
              "6                   NaN  \n",
              "7                   NaN  \n",
              "8                   NaN  \n",
              "9                   NaN  "
            ],
            "text/html": [
              "\n",
              "  <div id=\"df-9e8254cf-bdbe-491f-9299-fb2e7082363d\" class=\"colab-df-container\">\n",
              "    <div>\n",
              "<style scoped>\n",
              "    .dataframe tbody tr th:only-of-type {\n",
              "        vertical-align: middle;\n",
              "    }\n",
              "\n",
              "    .dataframe tbody tr th {\n",
              "        vertical-align: top;\n",
              "    }\n",
              "\n",
              "    .dataframe thead th {\n",
              "        text-align: right;\n",
              "    }\n",
              "</style>\n",
              "<table border=\"1\" class=\"dataframe\">\n",
              "  <thead>\n",
              "    <tr style=\"text-align: right;\">\n",
              "      <th></th>\n",
              "      <th>kode_kabupaten_kota</th>\n",
              "      <th>nama_kabupaten_kota</th>\n",
              "      <th>tahun</th>\n",
              "      <th>jumlah_hotel</th>\n",
              "      <th>jumlah_pengunjung_pariwisata</th>\n",
              "      <th>jumlah_pendapatan</th>\n",
              "      <th>jumlah_rumah_makan</th>\n",
              "      <th>jumlah_pengunjung_perkemahan</th>\n",
              "      <th>jumlah_pengunjung_homestay</th>\n",
              "      <th>jumlah_kawasan_pariwisata</th>\n",
              "      <th>jumlah_potensi_odtw</th>\n",
              "      <th>jenis_odtw</th>\n",
              "      <th>jumlah_tk_pariwisata</th>\n",
              "    </tr>\n",
              "  </thead>\n",
              "  <tbody>\n",
              "    <tr>\n",
              "      <th>0</th>\n",
              "      <td>3201</td>\n",
              "      <td>KABUPATEN BOGOR</td>\n",
              "      <td>2014</td>\n",
              "      <td>NaN</td>\n",
              "      <td>0.0</td>\n",
              "      <td>NaN</td>\n",
              "      <td>NaN</td>\n",
              "      <td>NaN</td>\n",
              "      <td>NaN</td>\n",
              "      <td>NaN</td>\n",
              "      <td>NaN</td>\n",
              "      <td>NaN</td>\n",
              "      <td>NaN</td>\n",
              "    </tr>\n",
              "    <tr>\n",
              "      <th>1</th>\n",
              "      <td>3201</td>\n",
              "      <td>KABUPATEN BOGOR</td>\n",
              "      <td>2014</td>\n",
              "      <td>NaN</td>\n",
              "      <td>0.0</td>\n",
              "      <td>NaN</td>\n",
              "      <td>NaN</td>\n",
              "      <td>NaN</td>\n",
              "      <td>NaN</td>\n",
              "      <td>NaN</td>\n",
              "      <td>NaN</td>\n",
              "      <td>NaN</td>\n",
              "      <td>NaN</td>\n",
              "    </tr>\n",
              "    <tr>\n",
              "      <th>2</th>\n",
              "      <td>3201</td>\n",
              "      <td>KABUPATEN BOGOR</td>\n",
              "      <td>2015</td>\n",
              "      <td>NaN</td>\n",
              "      <td>0.0</td>\n",
              "      <td>NaN</td>\n",
              "      <td>NaN</td>\n",
              "      <td>NaN</td>\n",
              "      <td>NaN</td>\n",
              "      <td>NaN</td>\n",
              "      <td>NaN</td>\n",
              "      <td>NaN</td>\n",
              "      <td>NaN</td>\n",
              "    </tr>\n",
              "    <tr>\n",
              "      <th>3</th>\n",
              "      <td>3201</td>\n",
              "      <td>KABUPATEN BOGOR</td>\n",
              "      <td>2015</td>\n",
              "      <td>NaN</td>\n",
              "      <td>0.0</td>\n",
              "      <td>NaN</td>\n",
              "      <td>NaN</td>\n",
              "      <td>NaN</td>\n",
              "      <td>NaN</td>\n",
              "      <td>NaN</td>\n",
              "      <td>NaN</td>\n",
              "      <td>NaN</td>\n",
              "      <td>NaN</td>\n",
              "    </tr>\n",
              "    <tr>\n",
              "      <th>4</th>\n",
              "      <td>3201</td>\n",
              "      <td>KABUPATEN BOGOR</td>\n",
              "      <td>2016</td>\n",
              "      <td>NaN</td>\n",
              "      <td>0.0</td>\n",
              "      <td>NaN</td>\n",
              "      <td>NaN</td>\n",
              "      <td>NaN</td>\n",
              "      <td>NaN</td>\n",
              "      <td>NaN</td>\n",
              "      <td>NaN</td>\n",
              "      <td>NaN</td>\n",
              "      <td>NaN</td>\n",
              "    </tr>\n",
              "    <tr>\n",
              "      <th>5</th>\n",
              "      <td>3201</td>\n",
              "      <td>KABUPATEN BOGOR</td>\n",
              "      <td>2016</td>\n",
              "      <td>NaN</td>\n",
              "      <td>0.0</td>\n",
              "      <td>NaN</td>\n",
              "      <td>NaN</td>\n",
              "      <td>NaN</td>\n",
              "      <td>NaN</td>\n",
              "      <td>NaN</td>\n",
              "      <td>NaN</td>\n",
              "      <td>NaN</td>\n",
              "      <td>NaN</td>\n",
              "    </tr>\n",
              "    <tr>\n",
              "      <th>6</th>\n",
              "      <td>3201</td>\n",
              "      <td>KABUPATEN BOGOR</td>\n",
              "      <td>2017</td>\n",
              "      <td>NaN</td>\n",
              "      <td>0.0</td>\n",
              "      <td>NaN</td>\n",
              "      <td>NaN</td>\n",
              "      <td>NaN</td>\n",
              "      <td>NaN</td>\n",
              "      <td>NaN</td>\n",
              "      <td>NaN</td>\n",
              "      <td>NaN</td>\n",
              "      <td>NaN</td>\n",
              "    </tr>\n",
              "    <tr>\n",
              "      <th>7</th>\n",
              "      <td>3201</td>\n",
              "      <td>KABUPATEN BOGOR</td>\n",
              "      <td>2017</td>\n",
              "      <td>NaN</td>\n",
              "      <td>0.0</td>\n",
              "      <td>NaN</td>\n",
              "      <td>NaN</td>\n",
              "      <td>NaN</td>\n",
              "      <td>NaN</td>\n",
              "      <td>NaN</td>\n",
              "      <td>NaN</td>\n",
              "      <td>NaN</td>\n",
              "      <td>NaN</td>\n",
              "    </tr>\n",
              "    <tr>\n",
              "      <th>8</th>\n",
              "      <td>3201</td>\n",
              "      <td>KABUPATEN BOGOR</td>\n",
              "      <td>2018</td>\n",
              "      <td>0.0</td>\n",
              "      <td>4411967.0</td>\n",
              "      <td>0.0</td>\n",
              "      <td>0.0</td>\n",
              "      <td>0.0</td>\n",
              "      <td>0.0</td>\n",
              "      <td>86.0</td>\n",
              "      <td>55.0</td>\n",
              "      <td>ALAM</td>\n",
              "      <td>NaN</td>\n",
              "    </tr>\n",
              "    <tr>\n",
              "      <th>9</th>\n",
              "      <td>3201</td>\n",
              "      <td>KABUPATEN BOGOR</td>\n",
              "      <td>2018</td>\n",
              "      <td>0.0</td>\n",
              "      <td>4411967.0</td>\n",
              "      <td>0.0</td>\n",
              "      <td>0.0</td>\n",
              "      <td>0.0</td>\n",
              "      <td>0.0</td>\n",
              "      <td>86.0</td>\n",
              "      <td>55.0</td>\n",
              "      <td>ALAM</td>\n",
              "      <td>NaN</td>\n",
              "    </tr>\n",
              "  </tbody>\n",
              "</table>\n",
              "</div>\n",
              "    <div class=\"colab-df-buttons\">\n",
              "\n",
              "  <div class=\"colab-df-container\">\n",
              "    <button class=\"colab-df-convert\" onclick=\"convertToInteractive('df-9e8254cf-bdbe-491f-9299-fb2e7082363d')\"\n",
              "            title=\"Convert this dataframe to an interactive table.\"\n",
              "            style=\"display:none;\">\n",
              "\n",
              "  <svg xmlns=\"http://www.w3.org/2000/svg\" height=\"24px\" viewBox=\"0 -960 960 960\">\n",
              "    <path d=\"M120-120v-720h720v720H120Zm60-500h600v-160H180v160Zm220 220h160v-160H400v160Zm0 220h160v-160H400v160ZM180-400h160v-160H180v160Zm440 0h160v-160H620v160ZM180-180h160v-160H180v160Zm440 0h160v-160H620v160Z\"/>\n",
              "  </svg>\n",
              "    </button>\n",
              "\n",
              "  <style>\n",
              "    .colab-df-container {\n",
              "      display:flex;\n",
              "      gap: 12px;\n",
              "    }\n",
              "\n",
              "    .colab-df-convert {\n",
              "      background-color: #E8F0FE;\n",
              "      border: none;\n",
              "      border-radius: 50%;\n",
              "      cursor: pointer;\n",
              "      display: none;\n",
              "      fill: #1967D2;\n",
              "      height: 32px;\n",
              "      padding: 0 0 0 0;\n",
              "      width: 32px;\n",
              "    }\n",
              "\n",
              "    .colab-df-convert:hover {\n",
              "      background-color: #E2EBFA;\n",
              "      box-shadow: 0px 1px 2px rgba(60, 64, 67, 0.3), 0px 1px 3px 1px rgba(60, 64, 67, 0.15);\n",
              "      fill: #174EA6;\n",
              "    }\n",
              "\n",
              "    .colab-df-buttons div {\n",
              "      margin-bottom: 4px;\n",
              "    }\n",
              "\n",
              "    [theme=dark] .colab-df-convert {\n",
              "      background-color: #3B4455;\n",
              "      fill: #D2E3FC;\n",
              "    }\n",
              "\n",
              "    [theme=dark] .colab-df-convert:hover {\n",
              "      background-color: #434B5C;\n",
              "      box-shadow: 0px 1px 3px 1px rgba(0, 0, 0, 0.15);\n",
              "      filter: drop-shadow(0px 1px 2px rgba(0, 0, 0, 0.3));\n",
              "      fill: #FFFFFF;\n",
              "    }\n",
              "  </style>\n",
              "\n",
              "    <script>\n",
              "      const buttonEl =\n",
              "        document.querySelector('#df-9e8254cf-bdbe-491f-9299-fb2e7082363d button.colab-df-convert');\n",
              "      buttonEl.style.display =\n",
              "        google.colab.kernel.accessAllowed ? 'block' : 'none';\n",
              "\n",
              "      async function convertToInteractive(key) {\n",
              "        const element = document.querySelector('#df-9e8254cf-bdbe-491f-9299-fb2e7082363d');\n",
              "        const dataTable =\n",
              "          await google.colab.kernel.invokeFunction('convertToInteractive',\n",
              "                                                    [key], {});\n",
              "        if (!dataTable) return;\n",
              "\n",
              "        const docLinkHtml = 'Like what you see? Visit the ' +\n",
              "          '<a target=\"_blank\" href=https://colab.research.google.com/notebooks/data_table.ipynb>data table notebook</a>'\n",
              "          + ' to learn more about interactive tables.';\n",
              "        element.innerHTML = '';\n",
              "        dataTable['output_type'] = 'display_data';\n",
              "        await google.colab.output.renderOutput(dataTable, element);\n",
              "        const docLink = document.createElement('div');\n",
              "        docLink.innerHTML = docLinkHtml;\n",
              "        element.appendChild(docLink);\n",
              "      }\n",
              "    </script>\n",
              "  </div>\n",
              "\n",
              "\n",
              "<div id=\"df-1e1b427d-00cd-4f57-92db-7743c0c36247\">\n",
              "  <button class=\"colab-df-quickchart\" onclick=\"quickchart('df-1e1b427d-00cd-4f57-92db-7743c0c36247')\"\n",
              "            title=\"Suggest charts\"\n",
              "            style=\"display:none;\">\n",
              "\n",
              "<svg xmlns=\"http://www.w3.org/2000/svg\" height=\"24px\"viewBox=\"0 0 24 24\"\n",
              "     width=\"24px\">\n",
              "    <g>\n",
              "        <path d=\"M19 3H5c-1.1 0-2 .9-2 2v14c0 1.1.9 2 2 2h14c1.1 0 2-.9 2-2V5c0-1.1-.9-2-2-2zM9 17H7v-7h2v7zm4 0h-2V7h2v10zm4 0h-2v-4h2v4z\"/>\n",
              "    </g>\n",
              "</svg>\n",
              "  </button>\n",
              "\n",
              "<style>\n",
              "  .colab-df-quickchart {\n",
              "      --bg-color: #E8F0FE;\n",
              "      --fill-color: #1967D2;\n",
              "      --hover-bg-color: #E2EBFA;\n",
              "      --hover-fill-color: #174EA6;\n",
              "      --disabled-fill-color: #AAA;\n",
              "      --disabled-bg-color: #DDD;\n",
              "  }\n",
              "\n",
              "  [theme=dark] .colab-df-quickchart {\n",
              "      --bg-color: #3B4455;\n",
              "      --fill-color: #D2E3FC;\n",
              "      --hover-bg-color: #434B5C;\n",
              "      --hover-fill-color: #FFFFFF;\n",
              "      --disabled-bg-color: #3B4455;\n",
              "      --disabled-fill-color: #666;\n",
              "  }\n",
              "\n",
              "  .colab-df-quickchart {\n",
              "    background-color: var(--bg-color);\n",
              "    border: none;\n",
              "    border-radius: 50%;\n",
              "    cursor: pointer;\n",
              "    display: none;\n",
              "    fill: var(--fill-color);\n",
              "    height: 32px;\n",
              "    padding: 0;\n",
              "    width: 32px;\n",
              "  }\n",
              "\n",
              "  .colab-df-quickchart:hover {\n",
              "    background-color: var(--hover-bg-color);\n",
              "    box-shadow: 0 1px 2px rgba(60, 64, 67, 0.3), 0 1px 3px 1px rgba(60, 64, 67, 0.15);\n",
              "    fill: var(--button-hover-fill-color);\n",
              "  }\n",
              "\n",
              "  .colab-df-quickchart-complete:disabled,\n",
              "  .colab-df-quickchart-complete:disabled:hover {\n",
              "    background-color: var(--disabled-bg-color);\n",
              "    fill: var(--disabled-fill-color);\n",
              "    box-shadow: none;\n",
              "  }\n",
              "\n",
              "  .colab-df-spinner {\n",
              "    border: 2px solid var(--fill-color);\n",
              "    border-color: transparent;\n",
              "    border-bottom-color: var(--fill-color);\n",
              "    animation:\n",
              "      spin 1s steps(1) infinite;\n",
              "  }\n",
              "\n",
              "  @keyframes spin {\n",
              "    0% {\n",
              "      border-color: transparent;\n",
              "      border-bottom-color: var(--fill-color);\n",
              "      border-left-color: var(--fill-color);\n",
              "    }\n",
              "    20% {\n",
              "      border-color: transparent;\n",
              "      border-left-color: var(--fill-color);\n",
              "      border-top-color: var(--fill-color);\n",
              "    }\n",
              "    30% {\n",
              "      border-color: transparent;\n",
              "      border-left-color: var(--fill-color);\n",
              "      border-top-color: var(--fill-color);\n",
              "      border-right-color: var(--fill-color);\n",
              "    }\n",
              "    40% {\n",
              "      border-color: transparent;\n",
              "      border-right-color: var(--fill-color);\n",
              "      border-top-color: var(--fill-color);\n",
              "    }\n",
              "    60% {\n",
              "      border-color: transparent;\n",
              "      border-right-color: var(--fill-color);\n",
              "    }\n",
              "    80% {\n",
              "      border-color: transparent;\n",
              "      border-right-color: var(--fill-color);\n",
              "      border-bottom-color: var(--fill-color);\n",
              "    }\n",
              "    90% {\n",
              "      border-color: transparent;\n",
              "      border-bottom-color: var(--fill-color);\n",
              "    }\n",
              "  }\n",
              "</style>\n",
              "\n",
              "  <script>\n",
              "    async function quickchart(key) {\n",
              "      const quickchartButtonEl =\n",
              "        document.querySelector('#' + key + ' button');\n",
              "      quickchartButtonEl.disabled = true;  // To prevent multiple clicks.\n",
              "      quickchartButtonEl.classList.add('colab-df-spinner');\n",
              "      try {\n",
              "        const charts = await google.colab.kernel.invokeFunction(\n",
              "            'suggestCharts', [key], {});\n",
              "      } catch (error) {\n",
              "        console.error('Error during call to suggestCharts:', error);\n",
              "      }\n",
              "      quickchartButtonEl.classList.remove('colab-df-spinner');\n",
              "      quickchartButtonEl.classList.add('colab-df-quickchart-complete');\n",
              "    }\n",
              "    (() => {\n",
              "      let quickchartButtonEl =\n",
              "        document.querySelector('#df-1e1b427d-00cd-4f57-92db-7743c0c36247 button');\n",
              "      quickchartButtonEl.style.display =\n",
              "        google.colab.kernel.accessAllowed ? 'block' : 'none';\n",
              "    })();\n",
              "  </script>\n",
              "</div>\n",
              "\n",
              "    </div>\n",
              "  </div>\n"
            ],
            "application/vnd.google.colaboratory.intrinsic+json": {
              "type": "dataframe",
              "variable_name": "df_merged",
              "summary": "{\n  \"name\": \"df_merged\",\n  \"rows\": 79595,\n  \"fields\": [\n    {\n      \"column\": \"kode_kabupaten_kota\",\n      \"properties\": {\n        \"dtype\": \"number\",\n        \"std\": 31,\n        \"min\": 3201,\n        \"max\": 3279,\n        \"num_unique_values\": 27,\n        \"samples\": [\n          3209,\n          3214,\n          3210\n        ],\n        \"semantic_type\": \"\",\n        \"description\": \"\"\n      }\n    },\n    {\n      \"column\": \"nama_kabupaten_kota\",\n      \"properties\": {\n        \"dtype\": \"category\",\n        \"num_unique_values\": 27,\n        \"samples\": [\n          \"KABUPATEN CIREBON\",\n          \"KABUPATEN PURWAKARTA\",\n          \"KABUPATEN MAJALENGKA\"\n        ],\n        \"semantic_type\": \"\",\n        \"description\": \"\"\n      }\n    },\n    {\n      \"column\": \"tahun\",\n      \"properties\": {\n        \"dtype\": \"number\",\n        \"std\": 1,\n        \"min\": 2014,\n        \"max\": 2023,\n        \"num_unique_values\": 10,\n        \"samples\": [\n          2022,\n          2015,\n          2019\n        ],\n        \"semantic_type\": \"\",\n        \"description\": \"\"\n      }\n    },\n    {\n      \"column\": \"jumlah_hotel\",\n      \"properties\": {\n        \"dtype\": \"number\",\n        \"std\": 47.32543934912708,\n        \"min\": 0.0,\n        \"max\": 365.0,\n        \"num_unique_values\": 75,\n        \"samples\": [\n          8.0,\n          60.0,\n          75.0\n        ],\n        \"semantic_type\": \"\",\n        \"description\": \"\"\n      }\n    },\n    {\n      \"column\": \"jumlah_pengunjung_pariwisata\",\n      \"properties\": {\n        \"dtype\": \"number\",\n        \"std\": 1627093.9897579246,\n        \"min\": 0.0,\n        \"max\": 13701916.0,\n        \"num_unique_values\": 219,\n        \"samples\": [\n          1291.0,\n          789742.0,\n          9832.0\n        ],\n        \"semantic_type\": \"\",\n        \"description\": \"\"\n      }\n    },\n    {\n      \"column\": \"jumlah_pendapatan\",\n      \"properties\": {\n        \"dtype\": \"number\",\n        \"std\": 100509071837.6843,\n        \"min\": 0.0,\n        \"max\": 1665645015034.0,\n        \"num_unique_values\": 377,\n        \"samples\": [\n          38237123212.0,\n          82000000000.0,\n          140135130850.0\n        ],\n        \"semantic_type\": \"\",\n        \"description\": \"\"\n      }\n    },\n    {\n      \"column\": \"jumlah_rumah_makan\",\n      \"properties\": {\n        \"dtype\": \"number\",\n        \"std\": 250.52181447238482,\n        \"min\": 0.0,\n        \"max\": 1689.0,\n        \"num_unique_values\": 82,\n        \"samples\": [\n          88.0,\n          0.0,\n          116.0\n        ],\n        \"semantic_type\": \"\",\n        \"description\": \"\"\n      }\n    },\n    {\n      \"column\": \"jumlah_pengunjung_perkemahan\",\n      \"properties\": {\n        \"dtype\": \"number\",\n        \"std\": 11827.539911529422,\n        \"min\": 0.0,\n        \"max\": 118199.0,\n        \"num_unique_values\": 88,\n        \"samples\": [\n          9.0,\n          0.0,\n          792.0\n        ],\n        \"semantic_type\": \"\",\n        \"description\": \"\"\n      }\n    },\n    {\n      \"column\": \"jumlah_pengunjung_homestay\",\n      \"properties\": {\n        \"dtype\": \"number\",\n        \"std\": 25546.958187243396,\n        \"min\": 0.0,\n        \"max\": 308665.0,\n        \"num_unique_values\": 85,\n        \"samples\": [\n          572.0,\n          0.0,\n          599.0\n        ],\n        \"semantic_type\": \"\",\n        \"description\": \"\"\n      }\n    },\n    {\n      \"column\": \"jumlah_kawasan_pariwisata\",\n      \"properties\": {\n        \"dtype\": \"number\",\n        \"std\": 91.82121989499664,\n        \"min\": 2.0,\n        \"max\": 408.0,\n        \"num_unique_values\": 91,\n        \"samples\": [\n          175.0,\n          408.0,\n          125.0\n        ],\n        \"semantic_type\": \"\",\n        \"description\": \"\"\n      }\n    },\n    {\n      \"column\": \"jumlah_potensi_odtw\",\n      \"properties\": {\n        \"dtype\": \"number\",\n        \"std\": 44.67482145822606,\n        \"min\": 0.0,\n        \"max\": 386.0,\n        \"num_unique_values\": 102,\n        \"samples\": [\n          25.0,\n          29.0,\n          16.0\n        ],\n        \"semantic_type\": \"\",\n        \"description\": \"\"\n      }\n    },\n    {\n      \"column\": \"jenis_odtw\",\n      \"properties\": {\n        \"dtype\": \"category\",\n        \"num_unique_values\": 3,\n        \"samples\": [\n          \"ALAM\",\n          \"BUDAYA\",\n          \"BUATAN\"\n        ],\n        \"semantic_type\": \"\",\n        \"description\": \"\"\n      }\n    },\n    {\n      \"column\": \"jumlah_tk_pariwisata\",\n      \"properties\": {\n        \"dtype\": \"number\",\n        \"std\": null,\n        \"min\": null,\n        \"max\": null,\n        \"num_unique_values\": 0,\n        \"samples\": [],\n        \"semantic_type\": \"\",\n        \"description\": \"\"\n      }\n    }\n  ]\n}"
            }
          },
          "metadata": {},
          "execution_count": 51
        }
      ]
    },
    {
      "cell_type": "markdown",
      "source": [
        "## Cek value null\n",
        "\n",
        "Memeriksa apakah terdapat data yang kosong atau tidak"
      ],
      "metadata": {
        "id": "rLp16dPQZEiO"
      }
    },
    {
      "cell_type": "code",
      "source": [
        "df_merged.isnull().sum()\n"
      ],
      "metadata": {
        "id": "O7Uq02eXCheA",
        "colab": {
          "base_uri": "https://localhost:8080/",
          "height": 492
        },
        "outputId": "a1b1adf3-4a37-4927-cf94-defa9b0ffb77"
      },
      "execution_count": null,
      "outputs": [
        {
          "output_type": "execute_result",
          "data": {
            "text/plain": [
              "kode_kabupaten_kota                 0\n",
              "nama_kabupaten_kota                 0\n",
              "tahun                               0\n",
              "jumlah_hotel                      215\n",
              "jumlah_pengunjung_pariwisata     1909\n",
              "jumlah_pendapatan                1834\n",
              "jumlah_rumah_makan                215\n",
              "jumlah_pengunjung_perkemahan      215\n",
              "jumlah_pengunjung_homestay        215\n",
              "jumlah_kawasan_pariwisata        3095\n",
              "jumlah_potensi_odtw               215\n",
              "jenis_odtw                        215\n",
              "jumlah_tk_pariwisata            79595\n",
              "dtype: int64"
            ],
            "text/html": [
              "<div>\n",
              "<style scoped>\n",
              "    .dataframe tbody tr th:only-of-type {\n",
              "        vertical-align: middle;\n",
              "    }\n",
              "\n",
              "    .dataframe tbody tr th {\n",
              "        vertical-align: top;\n",
              "    }\n",
              "\n",
              "    .dataframe thead th {\n",
              "        text-align: right;\n",
              "    }\n",
              "</style>\n",
              "<table border=\"1\" class=\"dataframe\">\n",
              "  <thead>\n",
              "    <tr style=\"text-align: right;\">\n",
              "      <th></th>\n",
              "      <th>0</th>\n",
              "    </tr>\n",
              "  </thead>\n",
              "  <tbody>\n",
              "    <tr>\n",
              "      <th>kode_kabupaten_kota</th>\n",
              "      <td>0</td>\n",
              "    </tr>\n",
              "    <tr>\n",
              "      <th>nama_kabupaten_kota</th>\n",
              "      <td>0</td>\n",
              "    </tr>\n",
              "    <tr>\n",
              "      <th>tahun</th>\n",
              "      <td>0</td>\n",
              "    </tr>\n",
              "    <tr>\n",
              "      <th>jumlah_hotel</th>\n",
              "      <td>215</td>\n",
              "    </tr>\n",
              "    <tr>\n",
              "      <th>jumlah_pengunjung_pariwisata</th>\n",
              "      <td>1909</td>\n",
              "    </tr>\n",
              "    <tr>\n",
              "      <th>jumlah_pendapatan</th>\n",
              "      <td>1834</td>\n",
              "    </tr>\n",
              "    <tr>\n",
              "      <th>jumlah_rumah_makan</th>\n",
              "      <td>215</td>\n",
              "    </tr>\n",
              "    <tr>\n",
              "      <th>jumlah_pengunjung_perkemahan</th>\n",
              "      <td>215</td>\n",
              "    </tr>\n",
              "    <tr>\n",
              "      <th>jumlah_pengunjung_homestay</th>\n",
              "      <td>215</td>\n",
              "    </tr>\n",
              "    <tr>\n",
              "      <th>jumlah_kawasan_pariwisata</th>\n",
              "      <td>3095</td>\n",
              "    </tr>\n",
              "    <tr>\n",
              "      <th>jumlah_potensi_odtw</th>\n",
              "      <td>215</td>\n",
              "    </tr>\n",
              "    <tr>\n",
              "      <th>jenis_odtw</th>\n",
              "      <td>215</td>\n",
              "    </tr>\n",
              "    <tr>\n",
              "      <th>jumlah_tk_pariwisata</th>\n",
              "      <td>79595</td>\n",
              "    </tr>\n",
              "  </tbody>\n",
              "</table>\n",
              "</div><br><label><b>dtype:</b> int64</label>"
            ]
          },
          "metadata": {},
          "execution_count": 52
        }
      ]
    },
    {
      "cell_type": "markdown",
      "source": [
        "## Visualisasi"
      ],
      "metadata": {
        "id": "_nMClB3UkI-C"
      }
    },
    {
      "cell_type": "markdown",
      "source": [
        "## Bar chart\n",
        "\n",
        "untuk memvisualisasi banyaknya hotel dengan jumlah pengunjung pariwisata"
      ],
      "metadata": {
        "id": "Ddb5UwsDeqB3"
      }
    },
    {
      "cell_type": "code",
      "source": [
        "# Set ukuran plot\n",
        "plt.figure(figsize=(10, 6))\n",
        "\n",
        "# Buat bar plot jumlah hotel vs jumlah pengunjung pariwisata\n",
        "sns.barplot(x='nama_kabupaten_kota', y='jumlah_hotel', data=df_merged, color='blue', label='Jumlah Hotel')\n",
        "sns.barplot(x='nama_kabupaten_kota', y='jumlah_pengunjung_pariwisata', data=df_merged, color='red', label='Jumlah Pengunjung Pariwisata')\n",
        "\n",
        "# Rotasi label kabupaten/kota untuk keterbacaan\n",
        "plt.xticks(rotation=90)\n",
        "\n",
        "# Tambahkan judul dan label\n",
        "plt.title('Jumlah Hotel dan Pengunjung Pariwisata per Kabupaten/Kota')\n",
        "plt.xlabel('Kabupaten/Kota')\n",
        "plt.ylabel('Jumlah')\n",
        "\n",
        "# Tampilkan legenda\n",
        "plt.legend()\n",
        "\n",
        "# Tampilkan plot\n",
        "plt.tight_layout()\n",
        "plt.show()"
      ],
      "metadata": {
        "id": "-kYmxGlzV5Dc",
        "colab": {
          "base_uri": "https://localhost:8080/",
          "height": 607
        },
        "outputId": "8eb3cb56-811c-4692-ed9b-b42c75d27d62"
      },
      "execution_count": 64,
      "outputs": [
        {
          "output_type": "display_data",
          "data": {
            "text/plain": [
              "<Figure size 1000x600 with 1 Axes>"
            ],
            "image/png": "[encoded data removed]"
          },
          "metadata": {}
        }
      ]
    }
  ]
}